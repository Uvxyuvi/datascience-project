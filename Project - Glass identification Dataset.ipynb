{
 "cells": [
  {
   "cell_type": "code",
   "execution_count": 1,
   "id": "33dca13f",
   "metadata": {},
   "outputs": [],
   "source": [
    "import numpy as np # linear algebra\n",
    "import pandas as pd # data processing, CSV file I/O (e.g. pd.read_csv)\n",
    "\n",
    "import matplotlib.pyplot as plt\n",
    "import seaborn as sns\n",
    "\n",
    "from collections import Counter\n",
    "\n",
    "from sklearn.preprocessing import LabelEncoder\n",
    "from sklearn.model_selection import RepeatedStratifiedKFold, cross_val_score\n",
    "\n",
    "from sklearn.svm import SVC\n",
    "from sklearn.neighbors import KNeighborsClassifier\n",
    "from sklearn.ensemble import BaggingClassifier, RandomForestClassifier, ExtraTreesClassifier"
   ]
  },
  {
   "cell_type": "code",
   "execution_count": 7,
   "id": "210d933a",
   "metadata": {},
   "outputs": [
    {
     "name": "stdout",
     "output_type": "stream",
     "text": [
      "<class 'pandas.core.frame.DataFrame'>\n",
      "RangeIndex: 213 entries, 0 to 212\n",
      "Data columns (total 11 columns):\n",
      " #   Column   Non-Null Count  Dtype  \n",
      "---  ------   --------------  -----  \n",
      " 0   1        213 non-null    int64  \n",
      " 1   1.52101  213 non-null    float64\n",
      " 2   13.64    213 non-null    float64\n",
      " 3   4.49     213 non-null    float64\n",
      " 4   1.10     213 non-null    float64\n",
      " 5   71.78    213 non-null    float64\n",
      " 6   0.06     213 non-null    float64\n",
      " 7   8.75     213 non-null    float64\n",
      " 8   0.00     213 non-null    float64\n",
      " 9   0.00.1   213 non-null    float64\n",
      " 10  1.1      213 non-null    int64  \n",
      "dtypes: float64(9), int64(2)\n",
      "memory usage: 18.4 KB\n",
      "----------------------------------------\n"
     ]
    },
    {
     "data": {
      "text/html": [
       "<div>\n",
       "<style scoped>\n",
       "    .dataframe tbody tr th:only-of-type {\n",
       "        vertical-align: middle;\n",
       "    }\n",
       "\n",
       "    .dataframe tbody tr th {\n",
       "        vertical-align: top;\n",
       "    }\n",
       "\n",
       "    .dataframe thead th {\n",
       "        text-align: right;\n",
       "    }\n",
       "</style>\n",
       "<table border=\"1\" class=\"dataframe\">\n",
       "  <thead>\n",
       "    <tr style=\"text-align: right;\">\n",
       "      <th></th>\n",
       "      <th>1</th>\n",
       "      <th>1.52101</th>\n",
       "      <th>13.64</th>\n",
       "      <th>4.49</th>\n",
       "      <th>1.10</th>\n",
       "      <th>71.78</th>\n",
       "      <th>0.06</th>\n",
       "      <th>8.75</th>\n",
       "      <th>0.00</th>\n",
       "      <th>0.00.1</th>\n",
       "      <th>1.1</th>\n",
       "    </tr>\n",
       "  </thead>\n",
       "  <tbody>\n",
       "    <tr>\n",
       "      <th>0</th>\n",
       "      <td>2</td>\n",
       "      <td>1.51761</td>\n",
       "      <td>13.89</td>\n",
       "      <td>3.60</td>\n",
       "      <td>1.36</td>\n",
       "      <td>72.73</td>\n",
       "      <td>0.48</td>\n",
       "      <td>7.83</td>\n",
       "      <td>0.0</td>\n",
       "      <td>0.00</td>\n",
       "      <td>1</td>\n",
       "    </tr>\n",
       "    <tr>\n",
       "      <th>1</th>\n",
       "      <td>3</td>\n",
       "      <td>1.51618</td>\n",
       "      <td>13.53</td>\n",
       "      <td>3.55</td>\n",
       "      <td>1.54</td>\n",
       "      <td>72.99</td>\n",
       "      <td>0.39</td>\n",
       "      <td>7.78</td>\n",
       "      <td>0.0</td>\n",
       "      <td>0.00</td>\n",
       "      <td>1</td>\n",
       "    </tr>\n",
       "    <tr>\n",
       "      <th>2</th>\n",
       "      <td>4</td>\n",
       "      <td>1.51766</td>\n",
       "      <td>13.21</td>\n",
       "      <td>3.69</td>\n",
       "      <td>1.29</td>\n",
       "      <td>72.61</td>\n",
       "      <td>0.57</td>\n",
       "      <td>8.22</td>\n",
       "      <td>0.0</td>\n",
       "      <td>0.00</td>\n",
       "      <td>1</td>\n",
       "    </tr>\n",
       "    <tr>\n",
       "      <th>3</th>\n",
       "      <td>5</td>\n",
       "      <td>1.51742</td>\n",
       "      <td>13.27</td>\n",
       "      <td>3.62</td>\n",
       "      <td>1.24</td>\n",
       "      <td>73.08</td>\n",
       "      <td>0.55</td>\n",
       "      <td>8.07</td>\n",
       "      <td>0.0</td>\n",
       "      <td>0.00</td>\n",
       "      <td>1</td>\n",
       "    </tr>\n",
       "    <tr>\n",
       "      <th>4</th>\n",
       "      <td>6</td>\n",
       "      <td>1.51596</td>\n",
       "      <td>12.79</td>\n",
       "      <td>3.61</td>\n",
       "      <td>1.62</td>\n",
       "      <td>72.97</td>\n",
       "      <td>0.64</td>\n",
       "      <td>8.07</td>\n",
       "      <td>0.0</td>\n",
       "      <td>0.26</td>\n",
       "      <td>1</td>\n",
       "    </tr>\n",
       "  </tbody>\n",
       "</table>\n",
       "</div>"
      ],
      "text/plain": [
       "   1  1.52101  13.64  4.49  1.10  71.78  0.06  8.75  0.00  0.00.1  1.1\n",
       "0  2  1.51761  13.89  3.60  1.36  72.73  0.48  7.83   0.0    0.00    1\n",
       "1  3  1.51618  13.53  3.55  1.54  72.99  0.39  7.78   0.0    0.00    1\n",
       "2  4  1.51766  13.21  3.69  1.29  72.61  0.57  8.22   0.0    0.00    1\n",
       "3  5  1.51742  13.27  3.62  1.24  73.08  0.55  8.07   0.0    0.00    1\n",
       "4  6  1.51596  12.79  3.61  1.62  72.97  0.64  8.07   0.0    0.26    1"
      ]
     },
     "execution_count": 7,
     "metadata": {},
     "output_type": "execute_result"
    }
   ],
   "source": [
    "glass_data = pd.read_csv('glass.csv')\n",
    "\n",
    "# Glass data\n",
    "glass_data.info()\n",
    "print(\"--\"*20)\n",
    "glass_data.head()"
   ]
  },
  {
   "cell_type": "code",
   "execution_count": 8,
   "id": "c12fe966",
   "metadata": {},
   "outputs": [
    {
     "data": {
      "text/plain": [
       "array([[52.     ,  1.51926, 13.2    ,  3.33   ,  1.28   , 72.36   ,\n",
       "         0.6    ,  9.14   ,  0.     ,  0.11   ,  1.     ],\n",
       "       [53.     ,  1.51808, 13.43   ,  2.87   ,  1.19   , 72.84   ,\n",
       "         0.55   ,  9.03   ,  0.     ,  0.     ,  1.     ],\n",
       "       [54.     ,  1.51837, 13.14   ,  2.84   ,  1.28   , 72.85   ,\n",
       "         0.55   ,  9.07   ,  0.     ,  0.     ,  1.     ],\n",
       "       [55.     ,  1.51778, 13.21   ,  2.81   ,  1.29   , 72.98   ,\n",
       "         0.51   ,  9.02   ,  0.     ,  0.09   ,  1.     ],\n",
       "       [56.     ,  1.51769, 12.45   ,  2.71   ,  1.29   , 73.7    ,\n",
       "         0.56   ,  9.06   ,  0.     ,  0.24   ,  1.     ],\n",
       "       [57.     ,  1.51215, 12.99   ,  3.47   ,  1.12   , 72.98   ,\n",
       "         0.62   ,  8.35   ,  0.     ,  0.31   ,  1.     ],\n",
       "       [58.     ,  1.51824, 12.87   ,  3.48   ,  1.29   , 72.95   ,\n",
       "         0.6    ,  8.43   ,  0.     ,  0.     ,  1.     ],\n",
       "       [59.     ,  1.51754, 13.48   ,  3.74   ,  1.17   , 72.99   ,\n",
       "         0.59   ,  8.03   ,  0.     ,  0.     ,  1.     ],\n",
       "       [60.     ,  1.51754, 13.39   ,  3.66   ,  1.19   , 72.79   ,\n",
       "         0.57   ,  8.27   ,  0.     ,  0.11   ,  1.     ],\n",
       "       [61.     ,  1.51905, 13.6    ,  3.62   ,  1.11   , 72.64   ,\n",
       "         0.14   ,  8.76   ,  0.     ,  0.     ,  1.     ]])"
      ]
     },
     "execution_count": 8,
     "metadata": {},
     "output_type": "execute_result"
    }
   ],
   "source": [
    "glass_data.values[50:60, :]"
   ]
  },
  {
   "cell_type": "markdown",
   "id": "4d7b1e42",
   "metadata": {},
   "source": [
    "Exploring Data"
   ]
  },
  {
   "cell_type": "code",
   "execution_count": 10,
   "id": "5114e645",
   "metadata": {},
   "outputs": [
    {
     "data": {
      "text/plain": [
       "2    76\n",
       "1    69\n",
       "7    29\n",
       "3    17\n",
       "5    13\n",
       "6     9\n",
       "Name: 1.1, dtype: int64"
      ]
     },
     "execution_count": 10,
     "metadata": {},
     "output_type": "execute_result"
    }
   ],
   "source": [
    "glass_data['1.1'].value_counts()"
   ]
  },
  {
   "cell_type": "code",
   "execution_count": 11,
   "id": "e5287530",
   "metadata": {},
   "outputs": [
    {
     "data": {
      "text/plain": [
       "<Figure size 720x432 with 0 Axes>"
      ]
     },
     "metadata": {},
     "output_type": "display_data"
    },
    {
     "data": {
      "image/png": "[encoded data removed]",
      "text/plain": [
       "<Figure size 432x288 with 12 Axes>"
      ]
     },
     "metadata": {
      "needs_background": "light"
     },
     "output_type": "display_data"
    }
   ],
   "source": [
    "plt.figure(figsize=(10,6))\n",
    "glass_data.hist()\n",
    "plt.show()"
   ]
  },
  {
   "cell_type": "code",
   "execution_count": 12,
   "id": "6f84eca0",
   "metadata": {},
   "outputs": [
    {
     "name": "stdout",
     "output_type": "stream",
     "text": [
      "Class=1, Count=69, Percentage=32.39%\n",
      "Class=2, Count=76, Percentage=35.68%\n",
      "Class=3, Count=17, Percentage=7.98%\n",
      "Class=5, Count=13, Percentage=6.10%\n",
      "Class=6, Count=9, Percentage=4.23%\n",
      "Class=7, Count=29, Percentage=13.62%\n"
     ]
    }
   ],
   "source": [
    "target = glass_data.values[:, -1]\n",
    "counter = Counter(target)\n",
    "\n",
    "for k, v in counter.items():\n",
    "    per = v / len(target) * 100\n",
    "    print('Class=%d, Count=%d, Percentage=%.2f%%' % (k,v,per))"
   ]
  },
  {
   "cell_type": "markdown",
   "id": "1a3261c0",
   "metadata": {},
   "source": [
    "Model Bulding"
   ]
  },
  {
   "cell_type": "code",
   "execution_count": 13,
   "id": "a700b61d",
   "metadata": {},
   "outputs": [],
   "source": [
    "def load_dataset(file_path):\n",
    "    df = pd.read_csv(file_path, header=0)\n",
    "    \n",
    "    data = df.values\n",
    "    #Split data into input and output\n",
    "    X, y = data[:, :-1], data[:, -1]\n",
    "    # Encode the label data\n",
    "    y = LabelEncoder().fit_transform(y)\n",
    "    \n",
    "    return X, y\n",
    "    \n",
    "# Evaluate the model\n",
    "def evaluate_model(X, y, model):\n",
    "    K = 5\n",
    "    R = 3\n",
    "    # K-Fold on the data\n",
    "    cv = RepeatedStratifiedKFold(n_splits=K, n_repeats=R, random_state=1)\n",
    "    \n",
    "    scores = cross_val_score(model, X, y, scoring='accuracy', cv=cv, n_jobs=-1)\n",
    "    \n",
    "    return scores\n",
    "\n",
    "def get_models():\n",
    "    models, names = list(), list()\n",
    "    # SVM\n",
    "    models.append(SVC(gamma='auto'))\n",
    "    names.append('SVC')\n",
    "    \n",
    "    models.append(KNeighborsClassifier())\n",
    "    names.append('KNN')\n",
    "    \n",
    "    models.append(BaggingClassifier(n_estimators=1000))\n",
    "    names.append('BAG')\n",
    "    \n",
    "    models.append(RandomForestClassifier(n_estimators=1000))\n",
    "    names.append('RF')\n",
    "    \n",
    "    models.append(ExtraTreesClassifier(n_estimators=1000))\n",
    "    names.append('ET')\n",
    "    \n",
    "    return models, names"
   ]
  },
  {
   "cell_type": "code",
   "execution_count": 14,
   "id": "44964304",
   "metadata": {},
   "outputs": [
    {
     "name": "stdout",
     "output_type": "stream",
     "text": [
      ">SVC 0.970 (0.033)\n",
      ">KNN 0.978 (0.023)\n",
      ">BAG 0.983 (0.013)\n",
      ">RF 0.975 (0.026)\n",
      ">ET 0.978 (0.025)\n"
     ]
    },
    {
     "data": {
      "image/png": "[encoded data removed]",
      "text/plain": [
       "<Figure size 432x288 with 1 Axes>"
      ]
     },
     "metadata": {
      "needs_background": "light"
     },
     "output_type": "display_data"
    }
   ],
   "source": [
    "file_path = 'glass.csv'\n",
    "\n",
    "X, y = load_dataset(file_path)\n",
    "\n",
    "models, names = get_models()\n",
    "\n",
    "results = list()\n",
    "\n",
    "for i in range(len(models)):\n",
    "    scores = evaluate_model(X, y, models[i])\n",
    "    results.append(scores)\n",
    "    print('>%s %.3f (%.3f)' % (names[i], np.mean(scores), np.std(scores)))\n",
    "\n",
    "plt.boxplot(results, labels=names, showmeans=True)\n",
    "plt.show()"
   ]
  },
  {
   "cell_type": "markdown",
   "id": "39b7d8ec",
   "metadata": {},
   "source": [
    "RandomForestClassifier"
   ]
  },
  {
   "cell_type": "code",
   "execution_count": 15,
   "id": "4bbe5f5e",
   "metadata": {},
   "outputs": [
    {
     "name": "stdout",
     "output_type": "stream",
     "text": [
      "RF Mean Accuracy: 0.975 (0.025)\n",
      "ET Mean Accuracy: 0.976 (0.027)\n"
     ]
    }
   ],
   "source": [
    "class_weights = {0:1.0, 1:1.0, 2:2.0, 3:2.0, 4:2.0, 5:2.0}\n",
    "\n",
    "rf_model = RandomForestClassifier(n_estimators=1000, class_weight=class_weights)\n",
    "\n",
    "et_model = ExtraTreesClassifier(n_estimators=1000, class_weight=class_weights)\n",
    "\n",
    "#Evaluate model\n",
    "scores = evaluate_model(X, y, rf_model)\n",
    "et_score = evaluate_model(X, y, et_model)\n",
    "\n",
    "print(\"RF Mean Accuracy: %.3f (%.3f)\" % (np.mean(scores), np.std(scores)))\n",
    "print(\"ET Mean Accuracy: %.3f (%.3f)\" % (np.mean(et_score), np.std(et_score)))"
   ]
  },
  {
   "cell_type": "markdown",
   "id": "f2c40535",
   "metadata": {},
   "source": [
    "Making Predictions"
   ]
  },
  {
   "cell_type": "code",
   "execution_count": 18,
   "id": "be8d1fc3",
   "metadata": {},
   "outputs": [
    {
     "ename": "SyntaxError",
     "evalue": "invalid syntax (2472496920.py, line 6)",
     "output_type": "error",
     "traceback": [
      "\u001b[1;36m  Input \u001b[1;32mIn [18]\u001b[1;36m\u001b[0m\n\u001b[1;33m    >Predicted=0 (expected 0)\u001b[0m\n\u001b[1;37m    ^\u001b[0m\n\u001b[1;31mSyntaxError\u001b[0m\u001b[1;31m:\u001b[0m invalid syntax\n"
     ]
    }
   ],
   "source": [
    "rf_model.fit(X, y)\n",
    "\n",
    "row = [ 1.51926 , 13.2 , 3.33, 1.28 , 72.36, 0.6 ,9.14 ,  0.0 ,  0.11  ]\n",
    "\n",
    "print('>Predicted=%d (expected 0)' % (rf_model.predict([row])))\n",
    ">Predicted=0 (expected 0)"
   ]
  },
  {
   "cell_type": "code",
   "execution_count": null,
   "id": "9150b1a3",
   "metadata": {},
   "outputs": [],
   "source": []
  }
 ],
 "metadata": {
  "kernelspec": {
   "display_name": "Python 3 (ipykernel)",
   "language": "python",
   "name": "python3"
  },
  "language_info": {
   "codemirror_mode": {
    "name": "ipython",
    "version": 3
   },
   "file_extension": ".py",
   "mimetype": "text/x-python",
   "name": "python",
   "nbconvert_exporter": "python",
   "pygments_lexer": "ipython3",
   "version": "3.9.12"
  }
 },
 "nbformat": 4,
 "nbformat_minor": 5
}
